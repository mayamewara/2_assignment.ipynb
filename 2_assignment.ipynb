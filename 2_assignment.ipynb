{
 "cells": [
  {
   "cell_type": "markdown",
   "id": "755f5cd5-0ef9-4cd5-b2d3-6daf8527a910",
   "metadata": {},
   "source": [
    "###\n",
    "Q 1. Which keyword is used to create a function? Create a function to return a list of odd numbers in the\n",
    "range of 1 to 25.\n"
   ]
  },
  {
   "cell_type": "markdown",
   "id": "bfc0ffaa-bb3d-4187-bcc2-14404613e5a6",
   "metadata": {},
   "source": [
    "def keyword is used to create a function"
   ]
  },
  {
   "cell_type": "code",
   "execution_count": 7,
   "id": "0b475d29-f642-48f3-a872-a9317eac50a5",
   "metadata": {},
   "outputs": [],
   "source": [
    "def odd_num(n):\n",
    "    l = []\n",
    "    for i in range(1,n+1):\n",
    "        if i % 2 != 0:\n",
    "            l.append(i)\n",
    "    return l\n"
   ]
  },
  {
   "cell_type": "code",
   "execution_count": null,
   "id": "e54aec67-e817-4409-8681-09ea1d939b88",
   "metadata": {},
   "outputs": [],
   "source": []
  },
  {
   "cell_type": "code",
   "execution_count": 8,
   "id": "0cdfad14-7812-4144-8f44-41904af4a9fa",
   "metadata": {},
   "outputs": [
    {
     "data": {
      "text/plain": [
       "[1, 3, 5, 7, 9, 11, 13, 15, 17, 19, 21, 23, 25]"
      ]
     },
     "execution_count": 8,
     "metadata": {},
     "output_type": "execute_result"
    }
   ],
   "source": [
    "odd_num(25)"
   ]
  },
  {
   "cell_type": "markdown",
   "id": "b2340fe3-0cf3-4690-88da-de6ccd58b2ed",
   "metadata": {},
   "source": [
    "Q.2 Why *args and **kwargs is used in some functions? Create a function each for *args and **kwargs\n",
    "to demonstrate their use."
   ]
  },
  {
   "cell_type": "code",
   "execution_count": 10,
   "id": "011818f6-f400-418a-b2be-ea1cb4f5ae41",
   "metadata": {},
   "outputs": [],
   "source": [
    "def find_max(*args):\n",
    "    if not args :\n",
    "        return None # if no argument are passed\n",
    "    max_num = None\n",
    "    for num in args:\n",
    "        if max_num is None or num > max_num:\n",
    "            max_num = num\n",
    "    return max_num        "
   ]
  },
  {
   "cell_type": "code",
   "execution_count": 17,
   "id": "ba879c08-0f85-41af-ab06-6a92df914b34",
   "metadata": {},
   "outputs": [
    {
     "data": {
      "text/plain": [
       "8"
      ]
     },
     "execution_count": 17,
     "metadata": {},
     "output_type": "execute_result"
    }
   ],
   "source": [
    "find_max(2,4,5,2,8)"
   ]
  },
  {
   "cell_type": "code",
   "execution_count": 18,
   "id": "e7bd19c0-4c44-4648-8f43-5b4691e26b92",
   "metadata": {},
   "outputs": [],
   "source": [
    "def print_person_info(**kwargs):\n",
    "    for key,value in kwargs.items():\n",
    "        print(f\"{key}: {value}\")"
   ]
  },
  {
   "cell_type": "code",
   "execution_count": 21,
   "id": "2fb4d697-5d0c-4253-ace8-a7a3c241e799",
   "metadata": {},
   "outputs": [
    {
     "name": "stdout",
     "output_type": "stream",
     "text": [
      "name: maya\n",
      "age: 23\n",
      "city: bhilwara\n"
     ]
    }
   ],
   "source": [
    "print_person_info(name = \"maya\",age = 23,city = \"bhilwara\")"
   ]
  },
  {
   "cell_type": "markdown",
   "id": "38fe41b1-5f04-4822-a6b8-63cd162cbe16",
   "metadata": {},
   "source": [
    "Q 3. What is an iterator in python? Name the method used to initialise the iterator object and the method\n",
    "used for iteration. Use these methods to print the first five elements of the given list [2, 4, 6, 8, 10, 12, 14,\n",
    "16, 18, 20]."
   ]
  },
  {
   "cell_type": "markdown",
   "id": "62ebd6ec-f791-4f0e-858d-ea502acd985b",
   "metadata": {},
   "source": [
    "n Python, an iterator is an object that enables you to traverse a container or sequence (like a list) and access its elements one by one."
   ]
  },
  {
   "cell_type": "code",
   "execution_count": 35,
   "id": "997c073e-976b-4fd3-9a74-99185955f09f",
   "metadata": {},
   "outputs": [
    {
     "name": "stdout",
     "output_type": "stream",
     "text": [
      "2\n",
      "4\n",
      "6\n",
      "8\n",
      "10\n"
     ]
    }
   ],
   "source": [
    "my_list =  [2, 4, 6, 8, 10, 12, 14,\n",
    "16, 18, 20]\n",
    "\n",
    "my_iter = iter(my_list)\n",
    "\n",
    "for _ in range(5) :\n",
    "    print(next(my_iter))\n",
    "    \n"
   ]
  },
  {
   "cell_type": "code",
   "execution_count": 48,
   "id": "549100a4-08c1-4442-a3cd-1d814874fb9f",
   "metadata": {},
   "outputs": [],
   "source": [
    "my_list =  [2, 4, 6, 8, 10, 12, 14,]"
   ]
  },
  {
   "cell_type": "code",
   "execution_count": 49,
   "id": "c7e68ba5-c0d8-41e2-8d9f-30a885534ac4",
   "metadata": {},
   "outputs": [
    {
     "data": {
      "text/plain": [
       "(2, 4, 6, 8, 10, 12, 14)"
      ]
     },
     "execution_count": 49,
     "metadata": {},
     "output_type": "execute_result"
    }
   ],
   "source": [
    "tuple(iter(my_list))"
   ]
  },
  {
   "cell_type": "code",
   "execution_count": 50,
   "id": "bc2884be-ec00-45da-b332-593e802e26bf",
   "metadata": {},
   "outputs": [],
   "source": [
    "l = iter(my_list)"
   ]
  },
  {
   "cell_type": "code",
   "execution_count": 51,
   "id": "f6cadfde-3cf8-4a2f-ba8c-ede8ffc899a4",
   "metadata": {},
   "outputs": [
    {
     "name": "stdout",
     "output_type": "stream",
     "text": [
      "2\n",
      "4\n",
      "6\n",
      "8\n"
     ]
    }
   ],
   "source": [
    "for _ in range(4):\n",
    "    print(next(l))"
   ]
  },
  {
   "cell_type": "markdown",
   "id": "4535f7a6-5ff8-4411-837f-455901a79743",
   "metadata": {},
   "source": [
    "Method used to initialize the iterator object: iter()\n",
    "Method used for iteration (to retrieve elements): next()"
   ]
  },
  {
   "cell_type": "code",
   "execution_count": 33,
   "id": "e83c5f9b-99b6-4f37-91ea-a0eaaa374988",
   "metadata": {},
   "outputs": [
    {
     "name": "stdout",
     "output_type": "stream",
     "text": [
      "2\n",
      "4\n",
      "6\n",
      "8\n",
      "10\n"
     ]
    }
   ],
   "source": [
    "# Define the list\n",
    "my_list = [2, 4, 6, 8, 10, 12, 14, 16, 18, 20]\n",
    "\n",
    "# Initialize the iterator object\n",
    "my_iter = iter(my_list)\n",
    "\n",
    "# Method to print the first five elements using iteration\n",
    "for _ in range(5):\n",
    "    print(next(my_iter))\n"
   ]
  },
  {
   "cell_type": "markdown",
   "id": "3b36cd70-d556-48dc-812e-d16e3ad84ad3",
   "metadata": {},
   "source": [
    "Q 4. What is a generator function in python? Why yield keyword is used? Give an example of a generator\n",
    "function."
   ]
  },
  {
   "cell_type": "markdown",
   "id": "89a3d28f-76e0-4e1d-8a39-f716b1686e2f",
   "metadata": {},
   "source": [
    "A generator function in Python is a special type of function that allows you to declare a function that behaves like an iterator.\n",
    "\n",
    "The yield keyword is used to turn a regular function into a generator"
   ]
  },
  {
   "cell_type": "code",
   "execution_count": 2,
   "id": "b348babf-d632-4dd2-b344-d1e583e05d67",
   "metadata": {},
   "outputs": [],
   "source": [
    "def square_number(n):\n",
    "    for i in range(1,n+1):\n",
    "        yield i*i\n",
    "        \n",
    "    "
   ]
  },
  {
   "cell_type": "code",
   "execution_count": 3,
   "id": "24a28164-bb18-4e34-aa5c-a9fa0bfc2859",
   "metadata": {},
   "outputs": [
    {
     "name": "stdout",
     "output_type": "stream",
     "text": [
      "1\n",
      "4\n",
      "9\n",
      "16\n",
      "25\n"
     ]
    }
   ],
   "source": [
    "for square in square_number(5):\n",
    "    print(square)"
   ]
  },
  {
   "cell_type": "markdown",
   "id": "d6e732e1-6bff-4adb-937a-cd7f347cd4f2",
   "metadata": {},
   "source": [
    "Q 5. Create a generator function for prime numbers less than 1000. Use the next() method to print the\n",
    "first 20 prime numbers."
   ]
  },
  {
   "cell_type": "code",
   "execution_count": 1,
   "id": "984c0732-0f42-4c69-9e00-4889ce9922c4",
   "metadata": {},
   "outputs": [
    {
     "name": "stdout",
     "output_type": "stream",
     "text": [
      "2\n",
      "3\n",
      "5\n",
      "7\n",
      "11\n",
      "13\n",
      "17\n",
      "19\n",
      "23\n",
      "29\n",
      "31\n",
      "37\n",
      "41\n",
      "43\n",
      "47\n",
      "53\n",
      "59\n",
      "61\n",
      "67\n",
      "71\n"
     ]
    }
   ],
   "source": [
    "def prime_number():\n",
    "    primes = []\n",
    "    num = 2\n",
    "    while num < 1000:\n",
    "        for prime in primes:\n",
    "            if num % prime == 0:\n",
    "                break\n",
    "        else:\n",
    "            primes.append(num)\n",
    "            yield num\n",
    "        num += 1\n",
    "                \n",
    "a = prime_number()\n",
    "for i in range(20):\n",
    "    print(next(a))\n",
    "\n",
    "    "
   ]
  },
  {
   "cell_type": "markdown",
   "id": "a498e854-67c0-463d-a629-b3f089923248",
   "metadata": {},
   "source": [
    "Q 6. Write a python program to print the first 10 Fibonacci numbers using a while loop."
   ]
  },
  {
   "cell_type": "code",
   "execution_count": 4,
   "id": "e1b5f554-3d47-4aa9-8ca2-21b1cda92b82",
   "metadata": {},
   "outputs": [
    {
     "name": "stdout",
     "output_type": "stream",
     "text": [
      "0\n",
      "1\n",
      "1\n",
      "2\n",
      "3\n",
      "5\n",
      "8\n",
      "13\n",
      "21\n",
      "34\n",
      "55\n"
     ]
    }
   ],
   "source": [
    "def fib(n):\n",
    "    a,b =  0,1\n",
    "    while True :\n",
    "        yield a\n",
    "        a,b = b,a+b\n",
    "fibonacci = fib(10)\n",
    "for i in range(11):\n",
    "    print(next(fibonacci))"
   ]
  },
  {
   "cell_type": "markdown",
   "id": "a8505d09-0338-4f1c-bd07-6f28ac0357fc",
   "metadata": {},
   "source": [
    "Q 7. Write a List Comprehension to iterate through the given string: ‘pwskills’.\n",
    "Expected output: ['p', 'w', 's', 'k', 'i', 'l', 'l', 's']"
   ]
  },
  {
   "cell_type": "code",
   "execution_count": 2,
   "id": "ea20c4bc-0e65-44e5-8232-c202b41bcfe7",
   "metadata": {},
   "outputs": [
    {
     "name": "stdout",
     "output_type": "stream",
     "text": [
      "['p', 'w', 's', 'k', 'i', 'l', 'l', 's']\n"
     ]
    }
   ],
   "source": [
    "string =  \"pwskills\"\n",
    "output = [ char for char in string]\n",
    "print(output)\n",
    "\n"
   ]
  },
  {
   "cell_type": "markdown",
   "id": "33ab036a-ef61-4e73-b706-d0a698d6ba23",
   "metadata": {},
   "source": [
    "Q 8. Write a python program to check whether a given number is Palindrome or not using a while loop."
   ]
  },
  {
   "cell_type": "code",
   "execution_count": 2,
   "id": "fc3b7583-6748-43b7-b943-2c550add39c8",
   "metadata": {},
   "outputs": [
    {
     "name": "stdin",
     "output_type": "stream",
     "text": [
      "enter a number 121\n"
     ]
    },
    {
     "name": "stdout",
     "output_type": "stream",
     "text": [
      " 121 is a palindrome\n"
     ]
    }
   ],
   "source": [
    "def is_palindrome(number):\n",
    "    original_number = number\n",
    "    reversed_number = 0\n",
    "    while number > 0:\n",
    "        digit = number % 10\n",
    "        reversed_number = reversed_number * 10 + digit\n",
    "        number = number // 10\n",
    "    return original_number == reversed_number\n",
    "\n",
    "# test the function\n",
    "number = int(input(\"enter a number\"))\n",
    "if is_palindrome(number):\n",
    "    print(f\" {number} is a palindrome\")\n",
    "else:\n",
    "    print(f\" {number} is not palindrome\")"
   ]
  },
  {
   "cell_type": "markdown",
   "id": "2d1f79c4-f58d-4924-bc42-66007c8d5114",
   "metadata": {},
   "source": [
    "Q 9. Write a code to print odd numbers from 1 to 100 using list comprehension."
   ]
  },
  {
   "cell_type": "code",
   "execution_count": 7,
   "id": "7c110311-ac02-40e7-8099-234529cfc4b7",
   "metadata": {},
   "outputs": [
    {
     "name": "stdout",
     "output_type": "stream",
     "text": [
      "[1, 3, 5, 7, 9, 11, 13, 15, 17, 19, 21, 23, 25, 27, 29, 31, 33, 35, 37, 39, 41, 43, 45, 47, 49, 51, 53, 55, 57, 59, 61, 63, 65, 67, 69, 71, 73, 75, 77, 79, 81, 83, 85, 87, 89, 91, 93, 95, 97, 99]\n"
     ]
    }
   ],
   "source": [
    "number = [ i for i in range(1,101)]\n",
    "odd_number = [ i for i in number if i % 2 != 0]\n",
    "print(odd_number)"
   ]
  },
  {
   "cell_type": "code",
   "execution_count": null,
   "id": "748f8d1a-ab39-440c-932c-663f10e548e0",
   "metadata": {},
   "outputs": [],
   "source": []
  }
 ],
 "metadata": {
  "kernelspec": {
   "display_name": "Python 3 (ipykernel)",
   "language": "python",
   "name": "python3"
  },
  "language_info": {
   "codemirror_mode": {
    "name": "ipython",
    "version": 3
   },
   "file_extension": ".py",
   "mimetype": "text/x-python",
   "name": "python",
   "nbconvert_exporter": "python",
   "pygments_lexer": "ipython3",
   "version": "3.10.8"
  }
 },
 "nbformat": 4,
 "nbformat_minor": 5
}
